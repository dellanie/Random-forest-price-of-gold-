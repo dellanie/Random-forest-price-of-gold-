{
 "cells": [
  {
   "cell_type": "code",
   "execution_count": 7,
   "metadata": {},
   "outputs": [],
   "source": [
    "#Import necessary libraries\n",
    "import pandas as pd\n",
    "import numpy as np\n",
    "from sklearn.ensemble import RandomForestRegressor\n",
    "from sklearn.model_selection import train_test_split\n",
    "from sklearn.metrics import mean_absolute_error, r2_score\n"
   ]
  },
  {
   "cell_type": "code",
   "execution_count": 8,
   "metadata": {},
   "outputs": [
    {
     "data": {
      "text/html": [
       "<div>\n",
       "<style scoped>\n",
       "    .dataframe tbody tr th:only-of-type {\n",
       "        vertical-align: middle;\n",
       "    }\n",
       "\n",
       "    .dataframe tbody tr th {\n",
       "        vertical-align: top;\n",
       "    }\n",
       "\n",
       "    .dataframe thead th {\n",
       "        text-align: right;\n",
       "    }\n",
       "</style>\n",
       "<table border=\"1\" class=\"dataframe\">\n",
       "  <thead>\n",
       "    <tr style=\"text-align: right;\">\n",
       "      <th></th>\n",
       "      <th>date</th>\n",
       "      <th>diamond price</th>\n",
       "      <th>inflation rate</th>\n",
       "      <th>interest rate</th>\n",
       "      <th>fed rate</th>\n",
       "      <th>gold price</th>\n",
       "    </tr>\n",
       "  </thead>\n",
       "  <tbody>\n",
       "    <tr>\n",
       "      <th>0</th>\n",
       "      <td>2021-06-04</td>\n",
       "      <td>10385.16</td>\n",
       "      <td>2.40</td>\n",
       "      <td>-0.84</td>\n",
       "      <td>0.06</td>\n",
       "      <td>1890.97</td>\n",
       "    </tr>\n",
       "    <tr>\n",
       "      <th>1</th>\n",
       "      <td>2021-06-03</td>\n",
       "      <td>10385.16</td>\n",
       "      <td>2.42</td>\n",
       "      <td>-0.79</td>\n",
       "      <td>0.06</td>\n",
       "      <td>1871.36</td>\n",
       "    </tr>\n",
       "    <tr>\n",
       "      <th>2</th>\n",
       "      <td>2021-06-02</td>\n",
       "      <td>10378.43</td>\n",
       "      <td>2.44</td>\n",
       "      <td>-0.85</td>\n",
       "      <td>0.06</td>\n",
       "      <td>1907.75</td>\n",
       "    </tr>\n",
       "    <tr>\n",
       "      <th>3</th>\n",
       "      <td>2021-06-01</td>\n",
       "      <td>10376.10</td>\n",
       "      <td>2.46</td>\n",
       "      <td>-0.84</td>\n",
       "      <td>0.06</td>\n",
       "      <td>1900.49</td>\n",
       "    </tr>\n",
       "    <tr>\n",
       "      <th>4</th>\n",
       "      <td>2021-05-31</td>\n",
       "      <td>10368.67</td>\n",
       "      <td>2.46</td>\n",
       "      <td>-0.84</td>\n",
       "      <td>0.05</td>\n",
       "      <td>1905.74</td>\n",
       "    </tr>\n",
       "    <tr>\n",
       "      <th>...</th>\n",
       "      <td>...</td>\n",
       "      <td>...</td>\n",
       "      <td>...</td>\n",
       "      <td>...</td>\n",
       "      <td>...</td>\n",
       "      <td>...</td>\n",
       "    </tr>\n",
       "    <tr>\n",
       "      <th>1129</th>\n",
       "      <td>2018-05-02</td>\n",
       "      <td>10047.16</td>\n",
       "      <td>2.17</td>\n",
       "      <td>0.80</td>\n",
       "      <td>1.70</td>\n",
       "      <td>1302.13</td>\n",
       "    </tr>\n",
       "    <tr>\n",
       "      <th>1130</th>\n",
       "      <td>2018-05-01</td>\n",
       "      <td>10050.07</td>\n",
       "      <td>2.16</td>\n",
       "      <td>0.81</td>\n",
       "      <td>1.70</td>\n",
       "      <td>1300.58</td>\n",
       "    </tr>\n",
       "    <tr>\n",
       "      <th>1131</th>\n",
       "      <td>2018-04-30</td>\n",
       "      <td>10038.62</td>\n",
       "      <td>2.17</td>\n",
       "      <td>0.78</td>\n",
       "      <td>1.69</td>\n",
       "      <td>1315.38</td>\n",
       "    </tr>\n",
       "    <tr>\n",
       "      <th>1132</th>\n",
       "      <td>2018-04-29</td>\n",
       "      <td>10032.95</td>\n",
       "      <td>2.17</td>\n",
       "      <td>0.78</td>\n",
       "      <td>1.70</td>\n",
       "      <td>1322.80</td>\n",
       "    </tr>\n",
       "    <tr>\n",
       "      <th>1133</th>\n",
       "      <td>2018-04-28</td>\n",
       "      <td>10030.58</td>\n",
       "      <td>2.17</td>\n",
       "      <td>0.78</td>\n",
       "      <td>1.70</td>\n",
       "      <td>1322.80</td>\n",
       "    </tr>\n",
       "  </tbody>\n",
       "</table>\n",
       "<p>1134 rows × 6 columns</p>\n",
       "</div>"
      ],
      "text/plain": [
       "            date  diamond price  inflation rate  interest rate  fed rate  \\\n",
       "0     2021-06-04       10385.16            2.40          -0.84      0.06   \n",
       "1     2021-06-03       10385.16            2.42          -0.79      0.06   \n",
       "2     2021-06-02       10378.43            2.44          -0.85      0.06   \n",
       "3     2021-06-01       10376.10            2.46          -0.84      0.06   \n",
       "4     2021-05-31       10368.67            2.46          -0.84      0.05   \n",
       "...          ...            ...             ...            ...       ...   \n",
       "1129  2018-05-02       10047.16            2.17           0.80      1.70   \n",
       "1130  2018-05-01       10050.07            2.16           0.81      1.70   \n",
       "1131  2018-04-30       10038.62            2.17           0.78      1.69   \n",
       "1132  2018-04-29       10032.95            2.17           0.78      1.70   \n",
       "1133  2018-04-28       10030.58            2.17           0.78      1.70   \n",
       "\n",
       "      gold price  \n",
       "0        1890.97  \n",
       "1        1871.36  \n",
       "2        1907.75  \n",
       "3        1900.49  \n",
       "4        1905.74  \n",
       "...          ...  \n",
       "1129     1302.13  \n",
       "1130     1300.58  \n",
       "1131     1315.38  \n",
       "1132     1322.80  \n",
       "1133     1322.80  \n",
       "\n",
       "[1134 rows x 6 columns]"
      ]
     },
     "execution_count": 8,
     "metadata": {},
     "output_type": "execute_result"
    }
   ],
   "source": [
    "#asssign csv file to variable\n",
    "data = pd.read_csv(\"diamond_data_merged_with_other_variables.csv\")\n",
    "data"
   ]
  },
  {
   "cell_type": "code",
   "execution_count": 10,
   "metadata": {},
   "outputs": [
    {
     "data": {
      "text/plain": [
       "date              0\n",
       "diamond price     0\n",
       "inflation rate    0\n",
       "interest rate     0\n",
       "fed rate          0\n",
       "gold price        0\n",
       "dtype: int64"
      ]
     },
     "execution_count": 10,
     "metadata": {},
     "output_type": "execute_result"
    }
   ],
   "source": [
    "#check if there are null values\n",
    "data.isnull().sum()\n"
   ]
  },
  {
   "cell_type": "code",
   "execution_count": 13,
   "metadata": {},
   "outputs": [],
   "source": [
    "#remove date column \n",
    "data2 = data.iloc[:,1:5]"
   ]
  },
  {
   "cell_type": "code",
   "execution_count": 28,
   "metadata": {},
   "outputs": [],
   "source": [
    "#function to check for oob score with random forest\n",
    "def evaluate(X,y,n_estimators=50):\n",
    "    rf = RandomForestRegressor(n_estimators=n_estimators,n_jobs=-1,oob_score=True)\n",
    "    rf.fit(X,y)\n",
    "    oob = rf.oob_score_\n",
    "    #n = rfnnodes(rf)\n",
    "    #h = np.median(rfmaxdepths(rf))\n",
    "    print(f\"OOB R^2 is {oob:.5f} \")\n",
    "    return rf, oob"
   ]
  },
  {
   "cell_type": "code",
   "execution_count": 22,
   "metadata": {},
   "outputs": [],
   "source": [
    "#seperate non target features from target feature\n",
    "basefeatures = ['diamond price','inflation rate', 'interest rate', 'fed rate']\n"
   ]
  },
  {
   "cell_type": "code",
   "execution_count": 25,
   "metadata": {},
   "outputs": [],
   "source": [
    "X = data[basefeatures]\n",
    "y = data['gold price']"
   ]
  },
  {
   "cell_type": "code",
   "execution_count": 29,
   "metadata": {},
   "outputs": [
    {
     "name": "stdout",
     "output_type": "stream",
     "text": [
      "OOB R^2 is 0.99549 \n"
     ]
    }
   ],
   "source": [
    "# call the function above with target variable(y) and non target variable(X)\n",
    "rf,oob_baseline_initial =evaluate(X,y,n_estimators=100)"
   ]
  },
  {
   "cell_type": "code",
   "execution_count": 32,
   "metadata": {},
   "outputs": [
    {
     "name": "stdout",
     "output_type": "stream",
     "text": [
      "OOB R^2 is 0.99555 \n"
     ]
    }
   ],
   "source": [
    "#using a different n estimator to check for any significant change\n",
    "rf,oob_baseline_initial =evaluate(X,y,n_estimators=300)"
   ]
  },
  {
   "cell_type": "markdown",
   "metadata": {},
   "source": [
    "R squared is below 1 which is pretty decent.Next we want to test and predict \n"
   ]
  },
  {
   "cell_type": "code",
   "execution_count": 36,
   "metadata": {},
   "outputs": [],
   "source": [
    "# Using Skicit-learn to split data into training and testing sets\n",
    "train_features, test_features, train_target, test_target = train_test_split(X, y, test_size = 0.25, random_state = 42)"
   ]
  },
  {
   "cell_type": "code",
   "execution_count": 37,
   "metadata": {},
   "outputs": [
    {
     "name": "stdout",
     "output_type": "stream",
     "text": [
      "Training Features Shape: (850, 4)\n",
      "Training Target Shape: (850,)\n",
      "Testing Features Shape: (284, 4)\n",
      "Testing Target Shape: (284,)\n"
     ]
    }
   ],
   "source": [
    "print('Training Features Shape:', train_features.shape)\n",
    "print('Training Target Shape:', train_target.shape)\n",
    "print('Testing Features Shape:', test_features.shape)\n",
    "print('Testing Target Shape:', test_target.shape)"
   ]
  },
  {
   "cell_type": "code",
   "execution_count": 53,
   "metadata": {},
   "outputs": [
    {
     "data": {
      "text/plain": [
       "RandomForestRegressor(n_estimators=150, random_state=50)"
      ]
     },
     "execution_count": 53,
     "metadata": {},
     "output_type": "execute_result"
    }
   ],
   "source": [
    "# train model\n",
    "rf = RandomForestRegressor(n_estimators=150, random_state= 50)\n",
    "rf.fit(train_features,train_target)"
   ]
  },
  {
   "cell_type": "code",
   "execution_count": 54,
   "metadata": {},
   "outputs": [
    {
     "name": "stdout",
     "output_type": "stream",
     "text": [
      "Mean Absolute Error: 13.34\n"
     ]
    }
   ],
   "source": [
    "#make prediction\n",
    "predictions = rf.predict(test_features)\n",
    "\n",
    "#calculate the absolute errors\n",
    "errors = abs(predictions - test_target)\n",
    "\n",
    "# Mean Absolute error \n",
    "print('Mean Absolute Error:', round(np.mean(errors),2))"
   ]
  },
  {
   "cell_type": "code",
   "execution_count": 55,
   "metadata": {},
   "outputs": [
    {
     "name": "stdout",
     "output_type": "stream",
     "text": [
      "Accuracy: 99.16 %.\n"
     ]
    }
   ],
   "source": [
    "#calculate mean absolute percentage error(mape)\n",
    "mape = 100*(errors/test_target)\n",
    "\n",
    "#calculate and display accuracy\n",
    "accuracy= 100-np.mean(mape)\n",
    "\n",
    "print('Accuracy:', round(accuracy, 2), '%.')"
   ]
  },
  {
   "cell_type": "code",
   "execution_count": 58,
   "metadata": {},
   "outputs": [
    {
     "data": {
      "text/html": [
       "<div>\n",
       "<style scoped>\n",
       "    .dataframe tbody tr th:only-of-type {\n",
       "        vertical-align: middle;\n",
       "    }\n",
       "\n",
       "    .dataframe tbody tr th {\n",
       "        vertical-align: top;\n",
       "    }\n",
       "\n",
       "    .dataframe thead th {\n",
       "        text-align: right;\n",
       "    }\n",
       "</style>\n",
       "<table border=\"1\" class=\"dataframe\">\n",
       "  <thead>\n",
       "    <tr style=\"text-align: right;\">\n",
       "      <th></th>\n",
       "      <th>date</th>\n",
       "      <th>diamond price</th>\n",
       "      <th>inflation rate</th>\n",
       "      <th>interest rate</th>\n",
       "      <th>fed rate</th>\n",
       "      <th>gold price</th>\n",
       "    </tr>\n",
       "  </thead>\n",
       "  <tbody>\n",
       "    <tr>\n",
       "      <th>0</th>\n",
       "      <td>2021-06-04</td>\n",
       "      <td>10385.16</td>\n",
       "      <td>2.4</td>\n",
       "      <td>-0.84</td>\n",
       "      <td>0.06</td>\n",
       "      <td>1890.97</td>\n",
       "    </tr>\n",
       "  </tbody>\n",
       "</table>\n",
       "</div>"
      ],
      "text/plain": [
       "         date  diamond price  inflation rate  interest rate  fed rate  \\\n",
       "0  2021-06-04       10385.16             2.4          -0.84      0.06   \n",
       "\n",
       "   gold price  \n",
       "0     1890.97  "
      ]
     },
     "execution_count": 58,
     "metadata": {},
     "output_type": "execute_result"
    }
   ],
   "source": [
    "data[0:1]"
   ]
  },
  {
   "cell_type": "code",
   "execution_count": 61,
   "metadata": {},
   "outputs": [],
   "source": [
    "#model.predict(pd.DataFrame([[10385.16,2.4,-0.84,0.06]]))"
   ]
  }
 ],
 "metadata": {
  "kernelspec": {
   "display_name": "Python 3.9.12 ('base')",
   "language": "python",
   "name": "python3"
  },
  "language_info": {
   "codemirror_mode": {
    "name": "ipython",
    "version": 3
   },
   "file_extension": ".py",
   "mimetype": "text/x-python",
   "name": "python",
   "nbconvert_exporter": "python",
   "pygments_lexer": "ipython3",
   "version": "3.9.12"
  },
  "orig_nbformat": 4,
  "vscode": {
   "interpreter": {
    "hash": "4de1f88d2d6373a8f471203fdfc2b3b4d6c7d9b83285e74471f7ed54a6bea6de"
   }
  }
 },
 "nbformat": 4,
 "nbformat_minor": 2
}
